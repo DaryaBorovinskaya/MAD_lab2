{
 "cells": [
  {
   "cell_type": "markdown",
   "id": "0b34935e",
   "metadata": {},
   "source": [
    "Классификация"
   ]
  },
  {
   "cell_type": "code",
   "execution_count": 112,
   "id": "de73f0bf",
   "metadata": {},
   "outputs": [
    {
     "name": "stdout",
     "output_type": "stream",
     "text": [
      "Размер: (45222, 15)\n"
     ]
    }
   ],
   "source": [
    "from ucimlrepo import fetch_ucirepo \n",
    "import pandas as pd\n",
    "import numpy as np\n",
    "from scipy.stats import skew, kurtosis\n",
    "import matplotlib.pyplot as plt\n",
    "import math\n",
    "from sklearn.preprocessing import LabelEncoder, StandardScaler\n",
    "\n",
    "\n",
    "# file_path = './online_shoppers_intention.csv'\n",
    "file_path = './adult 3 (1).csv'\n",
    "\n",
    "df = pd.read_csv(file_path)\n",
    "df = df.replace('?', pd.NA).dropna()\n",
    "print(f\"Размер: {df.shape}\")"
   ]
  },
  {
   "cell_type": "markdown",
   "id": "8e0f870d",
   "metadata": {},
   "source": [
    "income"
   ]
  },
  {
   "cell_type": "code",
   "execution_count": 113,
   "id": "3a8a623a",
   "metadata": {},
   "outputs": [
    {
     "name": "stdout",
     "output_type": "stream",
     "text": [
      "                age  hours-per-week\n",
      "count  45222.000000    45222.000000\n",
      "mean      38.547941       40.938017\n",
      "std       13.217870       12.007508\n",
      "min       17.000000        1.000000\n",
      "25%       28.000000       40.000000\n",
      "50%       37.000000       40.000000\n",
      "75%       47.000000       45.000000\n",
      "max       90.000000       99.000000\n",
      "Мода для столбца 'age': 36\n",
      "Мода для столбца 'hours-per-week': 40\n",
      "\n",
      "Асимметрия:\n",
      "age                 :    0.533\n",
      "hours-per-week      :    0.341\n",
      "\n",
      "Эксцесс:\n",
      "age                 :   -0.156\n",
      "hours-per-week      :    3.201\n"
     ]
    }
   ],
   "source": [
    "df_only_num = df[['age', 'hours-per-week']]\n",
    "\n",
    "print(df_only_num.describe())\n",
    "\n",
    "numeric_columns = df_only_num.columns\n",
    "\n",
    "\n",
    "for col in df_only_num.columns:\n",
    "    mode_value = df_only_num[col].mode()\n",
    "    if not mode_value.empty:\n",
    "        print(f\"Мода для столбца '{col}': {mode_value.iloc[0]}\")\n",
    "    else:\n",
    "        print(f\"Мода для столбца '{col}' не найдена.\")\n",
    "\n",
    "print(\"\\nАсимметрия:\")\n",
    "for col in numeric_columns:\n",
    "    skew_val = skew(df[col].dropna())\n",
    "    print(f\"{col:20s}: {skew_val:8.3f}\")\n",
    "\n",
    "print(\"\\nЭксцесс:\")\n",
    "for col in numeric_columns:\n",
    "    kurt_val = kurtosis(df[col].dropna())\n",
    "    print(f\"{col:20s}: {kurt_val:8.3f}\")"
   ]
  },
  {
   "cell_type": "code",
   "execution_count": 114,
   "id": "579f6c2b",
   "metadata": {},
   "outputs": [
    {
     "data": {
      "image/png": "[encoded data removed]",
      "text/plain": [
       "<Figure size 1000x700 with 2 Axes>"
      ]
     },
     "metadata": {},
     "output_type": "display_data"
    }
   ],
   "source": [
    "\n",
    "count_intervals = int(1 + math.log2(df_only_num.shape[0]))\n",
    "\n",
    "df_only_num.hist(bins=count_intervals, figsize=(10, 7))\n",
    "plt.suptitle(\"Гистограммы\", fontsize=16)\n",
    "plt.show()"
   ]
  },
  {
   "cell_type": "code",
   "execution_count": 115,
   "id": "8ad95b6f",
   "metadata": {},
   "outputs": [
    {
     "name": "stdout",
     "output_type": "stream",
     "text": [
      "income\n",
      "<=50K    75.215603\n",
      ">50K     24.784397\n",
      "Name: proportion, dtype: float64\n",
      "------------------------------\n",
      "educational-num\n",
      "9     32.689841\n",
      "10    21.889788\n",
      "13    16.739640\n",
      "14     5.559241\n",
      "11     4.331962\n",
      "7      3.580116\n",
      "12     3.332449\n",
      "6      2.704436\n",
      "4      1.819911\n",
      "15     1.735881\n",
      "5      1.494848\n",
      "8      1.275928\n",
      "16     1.202954\n",
      "3      0.992880\n",
      "2      0.490912\n",
      "1      0.159215\n",
      "Name: proportion, dtype: float64\n",
      "------------------------------\n",
      "marital-status\n",
      "Married-civ-spouse       46.559197\n",
      "Never-married            32.280748\n",
      "Divorced                 13.924638\n",
      "Separated                 3.120163\n",
      "Widowed                   2.823847\n",
      "Married-spouse-absent     1.220645\n",
      "Married-AF-spouse         0.070762\n",
      "Name: proportion, dtype: float64\n",
      "------------------------------\n",
      "relationship\n",
      "Husband           41.276370\n",
      "Not-in-family     25.876786\n",
      "Own-child         14.652160\n",
      "Unmarried         10.587767\n",
      "Wife               4.623856\n",
      "Other-relative     2.983061\n",
      "Name: proportion, dtype: float64\n",
      "------------------------------\n",
      "race\n",
      "White                 86.026713\n",
      "Black                  9.349432\n",
      "Asian-Pac-Islander     2.881341\n",
      "Amer-Indian-Eskimo     0.961921\n",
      "Other                  0.780594\n",
      "Name: proportion, dtype: float64\n",
      "------------------------------\n",
      "gender\n",
      "Male      67.504754\n",
      "Female    32.495246\n",
      "Name: proportion, dtype: float64\n",
      "------------------------------\n"
     ]
    }
   ],
   "source": [
    "df_only_categ = df[['income', 'educational-num', 'marital-status', \n",
    "                    'relationship', 'race', 'gender']]\n",
    "\n",
    "for col in df_only_categ.columns:\n",
    "    print(df_only_categ[col].value_counts(normalize=True) * 100)\n",
    "    print(\"-\" * 30)"
   ]
  },
  {
   "cell_type": "code",
   "execution_count": 116,
   "id": "9fd05a4a",
   "metadata": {},
   "outputs": [
    {
     "name": "stdout",
     "output_type": "stream",
     "text": [
      "\n",
      " income_num:\n",
      "[np.int64(0), np.int64(1)]\n",
      "\n",
      " marital_status_num:\n",
      "[np.int64(0), np.int64(1), np.int64(2), np.int64(3), np.int64(4), np.int64(5), np.int64(6)]\n",
      "\n",
      " relationship_num:\n",
      "[np.int64(0), np.int64(1), np.int64(2), np.int64(3), np.int64(4), np.int64(5)]\n",
      "\n",
      " race_num:\n",
      "[np.int64(0), np.int64(1), np.int64(2), np.int64(3), np.int64(4)]\n",
      "\n",
      " gender_num:\n",
      "[np.int64(0), np.int64(1)]\n",
      "Столбцы после удаления:\n",
      "['age', 'educational-num', 'hours-per-week', 'income_num', 'marital_status_num', 'relationship_num', 'race_num', 'gender_num']\n"
     ]
    }
   ],
   "source": [
    "le = LabelEncoder()\n",
    "df['income_num'] = le.fit_transform(df['income'])\n",
    "df['marital_status_num'] = le.fit_transform(df['marital-status'])\n",
    "df['relationship_num'] = le.fit_transform(df['relationship'])\n",
    "df['race_num'] = le.fit_transform(df['race'])\n",
    "df['gender_num'] = le.fit_transform(df['gender'])\n",
    "\n",
    "print(\"\\n income_num:\")\n",
    "print(sorted(df['income_num'].unique()))\n",
    "print(\"\\n marital_status_num:\")\n",
    "print(sorted(df['marital_status_num'].unique()))\n",
    "print(\"\\n relationship_num:\")\n",
    "print(sorted(df['relationship_num'].unique()))\n",
    "print(\"\\n race_num:\")\n",
    "print(sorted(df['race_num'].unique()))\n",
    "print(\"\\n gender_num:\")\n",
    "print(sorted(df['gender_num'].unique()))\n",
    "\n",
    "columns_to_drop = ['income', 'fnlwgt', 'native-country', 'education',\n",
    "                   'workclass', 'marital-status', 'occupation', 'relationship',\n",
    "                   'race', 'gender', 'capital-gain', 'capital-loss']\n",
    "df = df.drop(columns=columns_to_drop)\n",
    "\n",
    "print(\"Столбцы после удаления:\")\n",
    "print(df.columns.tolist())"
   ]
  },
  {
   "cell_type": "code",
   "execution_count": 118,
   "id": "c79b1f50",
   "metadata": {},
   "outputs": [
    {
     "name": "stdout",
     "output_type": "stream",
     "text": [
      "Средние значения после стандартизации:\n",
      "age                  -2.199725e-17\n",
      "educational-num      -1.382685e-17\n",
      "hours-per-week        3.142465e-18\n",
      "income_num           -9.710217e-17\n",
      "marital_status_num    5.970683e-18\n",
      "relationship_num      1.964041e-18\n",
      "race_num              1.854054e-17\n",
      "gender_num           -1.311979e-17\n",
      "dtype: float64\n",
      "\n",
      "Стандартные отклонения после стандартизации:\n",
      "age                   1.000011\n",
      "educational-num       1.000011\n",
      "hours-per-week        1.000011\n",
      "income_num            1.000011\n",
      "marital_status_num    1.000011\n",
      "relationship_num      1.000011\n",
      "race_num              1.000011\n",
      "gender_num            1.000011\n",
      "dtype: float64\n"
     ]
    }
   ],
   "source": [
    "scaler = StandardScaler()\n",
    "df = pd.DataFrame(\n",
    "    scaler.fit_transform(df),\n",
    "    columns=df.columns\n",
    ")\n",
    "\n",
    "print(\"Средние значения после стандартизации:\")\n",
    "print(df.mean())\n",
    "\n",
    "print(\"\\nСтандартные отклонения после стандартизации:\")\n",
    "print(df.std())"
   ]
  },
  {
   "cell_type": "code",
   "execution_count": null,
   "id": "ef7d7791",
   "metadata": {},
   "outputs": [],
   "source": []
  }
 ],
 "metadata": {
  "kernelspec": {
   "display_name": "venv",
   "language": "python",
   "name": "python3"
  },
  "language_info": {
   "codemirror_mode": {
    "name": "ipython",
    "version": 3
   },
   "file_extension": ".py",
   "mimetype": "text/x-python",
   "name": "python",
   "nbconvert_exporter": "python",
   "pygments_lexer": "ipython3",
   "version": "3.13.7"
  }
 },
 "nbformat": 4,
 "nbformat_minor": 5
}
