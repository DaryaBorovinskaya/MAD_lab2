{
 "cells": [
  {
   "cell_type": "markdown",
   "id": "0b34935e",
   "metadata": {},
   "source": [
    "Классификация"
   ]
  },
  {
   "cell_type": "code",
   "execution_count": 32,
   "id": "de73f0bf",
   "metadata": {},
   "outputs": [
    {
     "name": "stdout",
     "output_type": "stream",
     "text": [
      "Размер: (48842, 15)\n"
     ]
    }
   ],
   "source": [
    "from ucimlrepo import fetch_ucirepo \n",
    "import pandas as pd\n",
    "import numpy as np\n",
    "from scipy.stats import skew, kurtosis\n",
    "\n",
    "# file_path = './online_shoppers_intention.csv'\n",
    "file_path = './adult 3 (1).csv'\n",
    "\n",
    "df = pd.read_csv(file_path)\n",
    "\n",
    "print(f\"Размер: {df.shape}\")\n",
    "\n",
    "\n"
   ]
  },
  {
   "cell_type": "markdown",
   "id": "8e0f870d",
   "metadata": {},
   "source": [
    "income"
   ]
  },
  {
   "cell_type": "code",
   "execution_count": 33,
   "id": "71f37b45",
   "metadata": {},
   "outputs": [
    {
     "name": "stdout",
     "output_type": "stream",
     "text": [
      "\n",
      " income_num:\n",
      "[np.int64(0), np.int64(1)]\n",
      "\n",
      " marital_status_num:\n",
      "[np.int64(0), np.int64(1), np.int64(2), np.int64(3), np.int64(4), np.int64(5), np.int64(6)]\n",
      "\n",
      " relationship_num:\n",
      "[np.int64(0), np.int64(1), np.int64(2), np.int64(3), np.int64(4), np.int64(5)]\n",
      "\n",
      " race_num:\n",
      "[np.int64(0), np.int64(1), np.int64(2), np.int64(3), np.int64(4)]\n",
      "\n",
      " gender_num:\n",
      "[np.int64(0), np.int64(1)]\n",
      "Столбцы после удаления:\n",
      "['age', 'educational-num', 'capital-gain', 'capital-loss', 'hours-per-week', 'income_num', 'marital_status_num', 'relationship_num', 'race_num', 'gender_num']\n"
     ]
    }
   ],
   "source": [
    "from sklearn.preprocessing import LabelEncoder\n",
    "\n",
    "le = LabelEncoder()\n",
    "df['income_num'] = le.fit_transform(df['income'])\n",
    "df['marital_status_num'] = le.fit_transform(df['marital-status'])\n",
    "df['relationship_num'] = le.fit_transform(df['relationship'])\n",
    "df['race_num'] = le.fit_transform(df['race'])\n",
    "df['gender_num'] = le.fit_transform(df['gender'])\n",
    "\n",
    "print(\"\\n income_num:\")\n",
    "print(sorted(df['income_num'].unique()))\n",
    "print(\"\\n marital_status_num:\")\n",
    "print(sorted(df['marital_status_num'].unique()))\n",
    "print(\"\\n relationship_num:\")\n",
    "print(sorted(df['relationship_num'].unique()))\n",
    "print(\"\\n race_num:\")\n",
    "print(sorted(df['race_num'].unique()))\n",
    "print(\"\\n gender_num:\")\n",
    "print(sorted(df['gender_num'].unique()))\n",
    "\n",
    "columns_to_drop = ['income', 'fnlwgt', 'native-country', 'education',\n",
    "                   'workclass', 'marital-status', 'occupation', 'relationship',\n",
    "                   'race', 'gender']\n",
    "df = df.drop(columns=columns_to_drop)\n",
    "\n",
    "print(\"Столбцы после удаления:\")\n",
    "print(df.columns.tolist())"
   ]
  },
  {
   "cell_type": "code",
   "execution_count": 34,
   "id": "3a8a623a",
   "metadata": {},
   "outputs": [
    {
     "name": "stdout",
     "output_type": "stream",
     "text": [
      "                age  educational-num  capital-gain  capital-loss  \\\n",
      "count  48842.000000     48842.000000  48842.000000  48842.000000   \n",
      "mean      38.643585        10.078089   1079.067626     87.502314   \n",
      "std       13.710510         2.570973   7452.019058    403.004552   \n",
      "min       17.000000         1.000000      0.000000      0.000000   \n",
      "25%       28.000000         9.000000      0.000000      0.000000   \n",
      "50%       37.000000        10.000000      0.000000      0.000000   \n",
      "75%       48.000000        12.000000      0.000000      0.000000   \n",
      "max       90.000000        16.000000  99999.000000   4356.000000   \n",
      "\n",
      "       hours-per-week    income_num  marital_status_num  relationship_num  \\\n",
      "count    48842.000000  48842.000000        48842.000000      48842.000000   \n",
      "mean        40.422382      0.239282            2.618750          1.443287   \n",
      "std         12.391444      0.426649            1.507703          1.602151   \n",
      "min          1.000000      0.000000            0.000000          0.000000   \n",
      "25%         40.000000      0.000000            2.000000          0.000000   \n",
      "50%         40.000000      0.000000            2.000000          1.000000   \n",
      "75%         45.000000      0.000000            4.000000          3.000000   \n",
      "max         99.000000      1.000000            6.000000          5.000000   \n",
      "\n",
      "           race_num    gender_num  \n",
      "count  48842.000000  48842.000000  \n",
      "mean       3.668052      0.668482  \n",
      "std        0.845986      0.470764  \n",
      "min        0.000000      0.000000  \n",
      "25%        4.000000      0.000000  \n",
      "50%        4.000000      1.000000  \n",
      "75%        4.000000      1.000000  \n",
      "max        4.000000      1.000000  \n"
     ]
    }
   ],
   "source": [
    "print(df.describe())"
   ]
  },
  {
   "cell_type": "code",
   "execution_count": 35,
   "id": "86570fe1",
   "metadata": {},
   "outputs": [
    {
     "name": "stdout",
     "output_type": "stream",
     "text": [
      "\n",
      "Асимметрия:\n",
      "age                 :    0.558\n",
      "educational-num     :   -0.317\n",
      "capital-gain        :   11.894\n",
      "capital-loss        :    4.570\n",
      "hours-per-week      :    0.239\n",
      "income_num          :    1.222\n",
      "marital_status_num  :   -0.016\n",
      "relationship_num    :    0.792\n",
      "race_num            :   -2.448\n",
      "gender_num          :   -0.716\n",
      "\n",
      "Эксцесс:\n",
      "age                 :   -0.184\n",
      "educational-num     :    0.626\n",
      "capital-gain        :  152.677\n",
      "capital-loss        :   20.012\n",
      "hours-per-week      :    2.951\n",
      "income_num          :   -0.506\n",
      "marital_status_num  :   -0.536\n",
      "relationship_num    :   -0.754\n",
      "race_num            :    4.951\n",
      "gender_num          :   -1.488\n"
     ]
    }
   ],
   "source": [
    "numeric_columns = df.select_dtypes(include=[np.number]).columns\n",
    "\n",
    "print(\"\\nАсимметрия:\")\n",
    "for col in numeric_columns:\n",
    "    skew_val = skew(df[col].dropna())\n",
    "    print(f\"{col:20s}: {skew_val:8.3f}\")\n",
    "\n",
    "print(\"\\nЭксцесс:\")\n",
    "for col in numeric_columns:\n",
    "    kurt_val = kurtosis(df[col].dropna())\n",
    "    print(f\"{col:20s}: {kurt_val:8.3f}\")"
   ]
  },
  {
   "cell_type": "code",
   "execution_count": null,
   "id": "30136e0f",
   "metadata": {},
   "outputs": [],
   "source": []
  }
 ],
 "metadata": {
  "kernelspec": {
   "display_name": "venv",
   "language": "python",
   "name": "python3"
  },
  "language_info": {
   "codemirror_mode": {
    "name": "ipython",
    "version": 3
   },
   "file_extension": ".py",
   "mimetype": "text/x-python",
   "name": "python",
   "nbconvert_exporter": "python",
   "pygments_lexer": "ipython3",
   "version": "3.13.7"
  }
 },
 "nbformat": 4,
 "nbformat_minor": 5
}
